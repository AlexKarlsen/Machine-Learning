{
 "cells": [
  {
   "cell_type": "markdown",
   "metadata": {
    "slideshow": {
     "slide_type": "slide"
    }
   },
   "source": [
    "# Kaggle Challenge"
   ]
  },
  {
   "cell_type": "code",
   "execution_count": 2,
   "metadata": {
    "ExecuteTime": {
     "end_time": "2019-03-20T13:06:14.237879Z",
     "start_time": "2019-03-20T13:06:11.517588Z"
    },
    "slideshow": {
     "slide_type": "skip"
    }
   },
   "outputs": [],
   "source": [
    "import numpy as np\n",
    "import tensorflow as tf\n",
    "import pandas as pd\n",
    "import matplotlib.pyplot as plt\n",
    "import colorcet as cc\n",
    "from load_data import loadVectors\n",
    "from sklearn import neighbors\n"
   ]
  },
  {
   "cell_type": "code",
   "execution_count": 3,
   "metadata": {
    "ExecuteTime": {
     "end_time": "2019-03-20T13:06:26.651702Z",
     "start_time": "2019-03-20T13:06:14.239868Z"
    },
    "slideshow": {
     "slide_type": "skip"
    }
   },
   "outputs": [],
   "source": [
    "x_train, y_train, x_validation, y_validation, x_test = loadVectors()"
   ]
  },
  {
   "cell_type": "code",
   "execution_count": 4,
   "metadata": {
    "ExecuteTime": {
     "end_time": "2019-03-20T13:06:26.688601Z",
     "start_time": "2019-03-20T13:06:26.654692Z"
    },
    "slideshow": {
     "slide_type": "slide"
    }
   },
   "outputs": [
    {
     "data": {
      "text/html": [
       "<div>\n",
       "<style scoped>\n",
       "    .dataframe tbody tr th:only-of-type {\n",
       "        vertical-align: middle;\n",
       "    }\n",
       "\n",
       "    .dataframe tbody tr th {\n",
       "        vertical-align: top;\n",
       "    }\n",
       "\n",
       "    .dataframe thead th {\n",
       "        text-align: right;\n",
       "    }\n",
       "</style>\n",
       "<table border=\"1\" class=\"dataframe\">\n",
       "  <thead>\n",
       "    <tr style=\"text-align: right;\">\n",
       "      <th></th>\n",
       "      <th>0</th>\n",
       "      <th>1</th>\n",
       "      <th>2</th>\n",
       "      <th>3</th>\n",
       "      <th>4</th>\n",
       "      <th>5</th>\n",
       "      <th>6</th>\n",
       "      <th>7</th>\n",
       "      <th>8</th>\n",
       "      <th>9</th>\n",
       "      <th>...</th>\n",
       "      <th>4086</th>\n",
       "      <th>4087</th>\n",
       "      <th>4088</th>\n",
       "      <th>4089</th>\n",
       "      <th>4090</th>\n",
       "      <th>4091</th>\n",
       "      <th>4092</th>\n",
       "      <th>4093</th>\n",
       "      <th>4094</th>\n",
       "      <th>4095</th>\n",
       "    </tr>\n",
       "  </thead>\n",
       "  <tbody>\n",
       "    <tr>\n",
       "      <th>0</th>\n",
       "      <td>0.0</td>\n",
       "      <td>5.7890</td>\n",
       "      <td>0.0</td>\n",
       "      <td>0.56612</td>\n",
       "      <td>0.99131</td>\n",
       "      <td>4.5717</td>\n",
       "      <td>0.0</td>\n",
       "      <td>5.1703</td>\n",
       "      <td>3.9266</td>\n",
       "      <td>3.4912</td>\n",
       "      <td>...</td>\n",
       "      <td>0.0</td>\n",
       "      <td>0.0</td>\n",
       "      <td>0.0</td>\n",
       "      <td>0.0</td>\n",
       "      <td>1.5381</td>\n",
       "      <td>0.0</td>\n",
       "      <td>0.00000</td>\n",
       "      <td>0.00000</td>\n",
       "      <td>0.0</td>\n",
       "      <td>0.00</td>\n",
       "    </tr>\n",
       "    <tr>\n",
       "      <th>1</th>\n",
       "      <td>0.0</td>\n",
       "      <td>3.9499</td>\n",
       "      <td>0.0</td>\n",
       "      <td>0.29012</td>\n",
       "      <td>0.00000</td>\n",
       "      <td>3.1679</td>\n",
       "      <td>0.0</td>\n",
       "      <td>5.5988</td>\n",
       "      <td>1.6824</td>\n",
       "      <td>0.0000</td>\n",
       "      <td>...</td>\n",
       "      <td>0.0</td>\n",
       "      <td>0.0</td>\n",
       "      <td>0.0</td>\n",
       "      <td>0.0</td>\n",
       "      <td>2.2554</td>\n",
       "      <td>0.0</td>\n",
       "      <td>1.26000</td>\n",
       "      <td>0.33829</td>\n",
       "      <td>0.0</td>\n",
       "      <td>0.00</td>\n",
       "    </tr>\n",
       "    <tr>\n",
       "      <th>2</th>\n",
       "      <td>0.0</td>\n",
       "      <td>3.8154</td>\n",
       "      <td>0.0</td>\n",
       "      <td>0.00000</td>\n",
       "      <td>0.00000</td>\n",
       "      <td>2.8567</td>\n",
       "      <td>0.0</td>\n",
       "      <td>4.1596</td>\n",
       "      <td>0.0000</td>\n",
       "      <td>3.3156</td>\n",
       "      <td>...</td>\n",
       "      <td>0.0</td>\n",
       "      <td>0.0</td>\n",
       "      <td>0.0</td>\n",
       "      <td>0.0</td>\n",
       "      <td>2.7900</td>\n",
       "      <td>0.0</td>\n",
       "      <td>0.38005</td>\n",
       "      <td>0.00000</td>\n",
       "      <td>0.0</td>\n",
       "      <td>1.49</td>\n",
       "    </tr>\n",
       "    <tr>\n",
       "      <th>3</th>\n",
       "      <td>0.0</td>\n",
       "      <td>4.7163</td>\n",
       "      <td>0.0</td>\n",
       "      <td>2.66720</td>\n",
       "      <td>0.00000</td>\n",
       "      <td>3.9262</td>\n",
       "      <td>0.0</td>\n",
       "      <td>5.6187</td>\n",
       "      <td>0.0000</td>\n",
       "      <td>0.0000</td>\n",
       "      <td>...</td>\n",
       "      <td>0.0</td>\n",
       "      <td>0.0</td>\n",
       "      <td>0.0</td>\n",
       "      <td>0.0</td>\n",
       "      <td>2.2257</td>\n",
       "      <td>0.0</td>\n",
       "      <td>3.27060</td>\n",
       "      <td>0.00000</td>\n",
       "      <td>0.0</td>\n",
       "      <td>0.00</td>\n",
       "    </tr>\n",
       "    <tr>\n",
       "      <th>4</th>\n",
       "      <td>0.0</td>\n",
       "      <td>5.4124</td>\n",
       "      <td>0.0</td>\n",
       "      <td>3.09340</td>\n",
       "      <td>1.96590</td>\n",
       "      <td>3.3847</td>\n",
       "      <td>0.0</td>\n",
       "      <td>4.3234</td>\n",
       "      <td>2.0984</td>\n",
       "      <td>0.0000</td>\n",
       "      <td>...</td>\n",
       "      <td>0.0</td>\n",
       "      <td>0.0</td>\n",
       "      <td>0.0</td>\n",
       "      <td>0.0</td>\n",
       "      <td>2.0015</td>\n",
       "      <td>0.0</td>\n",
       "      <td>2.07670</td>\n",
       "      <td>0.00000</td>\n",
       "      <td>0.0</td>\n",
       "      <td>0.00</td>\n",
       "    </tr>\n",
       "  </tbody>\n",
       "</table>\n",
       "<p>5 rows × 4096 columns</p>\n",
       "</div>"
      ],
      "text/plain": [
       "   0       1     2        3        4       5     6       7       8       9     \\\n",
       "0   0.0  5.7890   0.0  0.56612  0.99131  4.5717   0.0  5.1703  3.9266  3.4912   \n",
       "1   0.0  3.9499   0.0  0.29012  0.00000  3.1679   0.0  5.5988  1.6824  0.0000   \n",
       "2   0.0  3.8154   0.0  0.00000  0.00000  2.8567   0.0  4.1596  0.0000  3.3156   \n",
       "3   0.0  4.7163   0.0  2.66720  0.00000  3.9262   0.0  5.6187  0.0000  0.0000   \n",
       "4   0.0  5.4124   0.0  3.09340  1.96590  3.3847   0.0  4.3234  2.0984  0.0000   \n",
       "\n",
       "   ...  4086  4087  4088  4089    4090  4091     4092     4093  4094  4095  \n",
       "0  ...   0.0   0.0   0.0   0.0  1.5381   0.0  0.00000  0.00000   0.0  0.00  \n",
       "1  ...   0.0   0.0   0.0   0.0  2.2554   0.0  1.26000  0.33829   0.0  0.00  \n",
       "2  ...   0.0   0.0   0.0   0.0  2.7900   0.0  0.38005  0.00000   0.0  1.49  \n",
       "3  ...   0.0   0.0   0.0   0.0  2.2257   0.0  3.27060  0.00000   0.0  0.00  \n",
       "4  ...   0.0   0.0   0.0   0.0  2.0015   0.0  2.07670  0.00000   0.0  0.00  \n",
       "\n",
       "[5 rows x 4096 columns]"
      ]
     },
     "execution_count": 4,
     "metadata": {},
     "output_type": "execute_result"
    }
   ],
   "source": [
    "x_train.head()"
   ]
  },
  {
   "cell_type": "code",
   "execution_count": 5,
   "metadata": {
    "ExecuteTime": {
     "end_time": "2019-03-20T13:15:06.467033Z",
     "start_time": "2019-03-20T13:06:26.691594Z"
    },
    "slideshow": {
     "slide_type": "slide"
    }
   },
   "outputs": [
    {
     "name": "stdout",
     "output_type": "stream",
     "text": [
      "n = 1 => score = 0.6701479547432551\n",
      "n = 3 => score = 0.65970409051349\n",
      "n = 5 => score = 0.6827676240208878\n",
      "n = 7 => score = 0.6823324630113142\n",
      "n = 11 => score = 0.6875543951261966\n"
     ]
    }
   ],
   "source": [
    "num_neighbors = [1,3,5,7,11]\n",
    "for i in num_neighbors:\n",
    "    clf = neighbors.KNeighborsClassifier(n_neighbors=i)\n",
    "    clf.fit(x_train, y_train)\n",
    "    score = clf.score(x_validation, y_validation)\n",
    "    print('n = {} => score = {}'.format(i,score))"
   ]
  },
  {
   "cell_type": "code",
   "execution_count": 47,
   "metadata": {
    "ExecuteTime": {
     "end_time": "2019-03-13T10:20:49.038910Z",
     "start_time": "2019-03-13T10:20:48.999784Z"
    }
   },
   "outputs": [],
   "source": [
    "submission.to_csv(\"submission.csv\",index=False)"
   ]
  }
 ],
 "metadata": {
  "celltoolbar": "Slideshow",
  "kernelspec": {
   "display_name": "Kaggle",
   "language": "python",
   "name": "kaggle"
  },
  "language_info": {
   "codemirror_mode": {
    "name": "ipython",
    "version": 3
   },
   "file_extension": ".py",
   "mimetype": "text/x-python",
   "name": "python",
   "nbconvert_exporter": "python",
   "pygments_lexer": "ipython3",
   "version": "3.6.4"
  }
 },
 "nbformat": 4,
 "nbformat_minor": 2
}
