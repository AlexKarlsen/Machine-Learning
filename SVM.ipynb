{
 "cells": [
  {
   "cell_type": "markdown",
   "metadata": {},
   "source": [
    "# Support Vector Classifier \n",
    "\n",
    "This notebook implements a SVM classifier and hyperparameter optimization using the [SciKitLearn](https://scikit-learn.org/stable/index.html) library. The hyperparameter optimization is done using *Search Grid with 5-fold Cross Validation*. The search grid includes two different kernels; Linear and RBF, and four different setting for C (penalty term)."
   ]
  },
  {
   "cell_type": "code",
   "execution_count": 1,
   "metadata": {
    "ExecuteTime": {
     "end_time": "2019-04-03T10:55:34.799097Z",
     "start_time": "2019-04-03T10:55:31.876170Z"
    }
   },
   "outputs": [],
   "source": [
    "import numpy as np\n",
    "import pandas as pd\n",
    "from load_data import loadVectors\n",
    "from sklearn import svm\n",
    "from sklearn.model_selection import GridSearchCV"
   ]
  },
  {
   "cell_type": "markdown",
   "metadata": {},
   "source": [
    "The training and validation set are merged, as CV creates its' own train/test split.     "
   ]
  },
  {
   "cell_type": "code",
   "execution_count": 2,
   "metadata": {
    "ExecuteTime": {
     "end_time": "2019-04-03T10:56:25.183262Z",
     "start_time": "2019-04-03T10:55:34.804104Z"
    },
    "scrolled": true
   },
   "outputs": [],
   "source": [
    "x_train, y_train, x_validation, y_validation, x_test = loadVectors()\n",
    "x = pd.concat([x_train, x_validation])\n",
    "y = np.concatenate((y_train, y_validation))"
   ]
  },
  {
   "cell_type": "markdown",
   "metadata": {},
   "source": [
    "Finding the best classifier requires setting up the hyperparameters and the wanted SVM classifier. "
   ]
  },
  {
   "cell_type": "code",
   "execution_count": 3,
   "metadata": {
    "ExecuteTime": {
     "end_time": "2019-04-03T10:56:25.198518Z",
     "start_time": "2019-04-03T10:56:25.189684Z"
    }
   },
   "outputs": [],
   "source": [
    "# Hyperparameter to search for  \n",
    "parameters = {\n",
    "    'kernel': ('linear', 'rbf'), \n",
    "    'C':[0.01, 0.1, 1, 10]\n",
    "}\n",
    "\n",
    "# Support Vector Classifier\n",
    "svc = svm.SVC(gamma=\"scale\")\n",
    "\n",
    "# GridSearch returns the best classifier for the given hyperparameters\n",
    "clf = GridSearchCV(svc, parameters, cv=5, verbose=20, n_jobs=-1)"
   ]
  },
  {
   "cell_type": "markdown",
   "metadata": {},
   "source": [
    "Training the classifier using the entire labeled dataset."
   ]
  },
  {
   "cell_type": "code",
   "execution_count": 4,
   "metadata": {
    "ExecuteTime": {
     "end_time": "2019-04-03T12:45:25.576382Z",
     "start_time": "2019-04-03T10:56:25.204066Z"
    }
   },
   "outputs": [
    {
     "name": "stdout",
     "output_type": "stream",
     "text": [
      "Fitting 5 folds for each of 8 candidates, totalling 40 fits\n"
     ]
    },
    {
     "name": "stderr",
     "output_type": "stream",
     "text": [
      "[Parallel(n_jobs=-1)]: Using backend LokyBackend with 4 concurrent workers.\n",
      "[Parallel(n_jobs=-1)]: Done   1 tasks      | elapsed: 15.7min\n",
      "[Parallel(n_jobs=-1)]: Done   2 tasks      | elapsed: 15.7min\n",
      "[Parallel(n_jobs=-1)]: Done   3 tasks      | elapsed: 15.7min\n",
      "[Parallel(n_jobs=-1)]: Done   4 tasks      | elapsed: 15.7min\n",
      "[Parallel(n_jobs=-1)]: Done   5 tasks      | elapsed: 22.5min\n",
      "[Parallel(n_jobs=-1)]: Done   6 tasks      | elapsed: 34.7min\n",
      "[Parallel(n_jobs=-1)]: Done   7 tasks      | elapsed: 34.7min\n",
      "[Parallel(n_jobs=-1)]: Done   8 tasks      | elapsed: 34.7min\n",
      "[Parallel(n_jobs=-1)]: Done   9 tasks      | elapsed: 41.3min\n",
      "[Parallel(n_jobs=-1)]: Done  10 tasks      | elapsed: 41.5min\n",
      "[Parallel(n_jobs=-1)]: Done  11 tasks      | elapsed: 41.6min\n",
      "[Parallel(n_jobs=-1)]: Done  12 tasks      | elapsed: 48.0min\n",
      "[Parallel(n_jobs=-1)]: Done  13 tasks      | elapsed: 48.0min\n",
      "[Parallel(n_jobs=-1)]: Done  14 tasks      | elapsed: 48.1min\n",
      "[Parallel(n_jobs=-1)]: Done  15 tasks      | elapsed: 53.4min\n",
      "[Parallel(n_jobs=-1)]: Done  16 tasks      | elapsed: 61.5min\n",
      "[Parallel(n_jobs=-1)]: Done  17 tasks      | elapsed: 61.7min\n",
      "[Parallel(n_jobs=-1)]: Done  18 tasks      | elapsed: 61.7min\n",
      "[Parallel(n_jobs=-1)]: Done  19 tasks      | elapsed: 66.8min\n",
      "[Parallel(n_jobs=-1)]: Done  20 tasks      | elapsed: 68.2min\n",
      "[Parallel(n_jobs=-1)]: Done  21 tasks      | elapsed: 68.2min\n",
      "[Parallel(n_jobs=-1)]: Done  22 tasks      | elapsed: 73.4min\n",
      "[Parallel(n_jobs=-1)]: Done  23 tasks      | elapsed: 74.5min\n",
      "[Parallel(n_jobs=-1)]: Done  24 tasks      | elapsed: 74.6min\n",
      "[Parallel(n_jobs=-1)]: Done  25 tasks      | elapsed: 75.0min\n",
      "[Parallel(n_jobs=-1)]: Done  26 tasks      | elapsed: 82.5min\n",
      "[Parallel(n_jobs=-1)]: Done  27 tasks      | elapsed: 83.8min\n",
      "[Parallel(n_jobs=-1)]: Done  28 tasks      | elapsed: 83.9min\n",
      "[Parallel(n_jobs=-1)]: Done  29 tasks      | elapsed: 84.2min\n",
      "[Parallel(n_jobs=-1)]: Done  30 tasks      | elapsed: 90.3min\n",
      "[Parallel(n_jobs=-1)]: Done  31 tasks      | elapsed: 90.4min\n",
      "[Parallel(n_jobs=-1)]: Done  32 tasks      | elapsed: 90.7min\n",
      "[Parallel(n_jobs=-1)]: Done  33 tasks      | elapsed: 91.7min\n",
      "[Parallel(n_jobs=-1)]: Done  36 out of  40 | elapsed: 99.8min remaining: 11.1min\n",
      "[Parallel(n_jobs=-1)]: Done  40 out of  40 | elapsed: 106.4min finished\n"
     ]
    },
    {
     "data": {
      "text/plain": [
       "GridSearchCV(cv=5, error_score='raise-deprecating',\n",
       "       estimator=SVC(C=1.0, cache_size=200, class_weight=None, coef0=0.0,\n",
       "  decision_function_shape='ovr', degree=3, gamma='scale', kernel='rbf',\n",
       "  max_iter=-1, probability=False, random_state=None, shrinking=True,\n",
       "  tol=0.001, verbose=False),\n",
       "       fit_params=None, iid='warn', n_jobs=-1,\n",
       "       param_grid={'kernel': ('linear', 'rbf'), 'C': [0.01, 0.1, 1, 10]},\n",
       "       pre_dispatch='2*n_jobs', refit=True, return_train_score='warn',\n",
       "       scoring=None, verbose=20)"
      ]
     },
     "execution_count": 4,
     "metadata": {},
     "output_type": "execute_result"
    }
   ],
   "source": [
    "clf.fit(x, y)"
   ]
  },
  {
   "cell_type": "markdown",
   "metadata": {
    "ExecuteTime": {
     "end_time": "2019-04-03T12:45:25.591343Z",
     "start_time": "2019-04-03T12:45:25.578377Z"
    }
   },
   "source": [
    "## Grid Search Results"
   ]
  },
  {
   "cell_type": "code",
   "execution_count": 6,
   "metadata": {
    "ExecuteTime": {
     "end_time": "2019-04-03T12:45:25.691053Z",
     "start_time": "2019-04-03T12:45:25.595332Z"
    }
   },
   "outputs": [
    {
     "data": {
      "text/html": [
       "<div>\n",
       "<style scoped>\n",
       "    .dataframe tbody tr th:only-of-type {\n",
       "        vertical-align: middle;\n",
       "    }\n",
       "\n",
       "    .dataframe tbody tr th {\n",
       "        vertical-align: top;\n",
       "    }\n",
       "\n",
       "    .dataframe thead th {\n",
       "        text-align: right;\n",
       "    }\n",
       "</style>\n",
       "<table border=\"1\" class=\"dataframe\">\n",
       "  <thead>\n",
       "    <tr style=\"text-align: right;\">\n",
       "      <th></th>\n",
       "      <th>mean_fit_time</th>\n",
       "      <th>std_fit_time</th>\n",
       "      <th>mean_score_time</th>\n",
       "      <th>std_score_time</th>\n",
       "      <th>param_C</th>\n",
       "      <th>param_kernel</th>\n",
       "      <th>params</th>\n",
       "      <th>split0_test_score</th>\n",
       "      <th>split1_test_score</th>\n",
       "      <th>split2_test_score</th>\n",
       "      <th>...</th>\n",
       "      <th>mean_test_score</th>\n",
       "      <th>std_test_score</th>\n",
       "      <th>rank_test_score</th>\n",
       "      <th>split0_train_score</th>\n",
       "      <th>split1_train_score</th>\n",
       "      <th>split2_train_score</th>\n",
       "      <th>split3_train_score</th>\n",
       "      <th>split4_train_score</th>\n",
       "      <th>mean_train_score</th>\n",
       "      <th>std_train_score</th>\n",
       "    </tr>\n",
       "  </thead>\n",
       "  <tbody>\n",
       "    <tr>\n",
       "      <th>0</th>\n",
       "      <td>271.994743</td>\n",
       "      <td>80.842013</td>\n",
       "      <td>140.115429</td>\n",
       "      <td>41.165375</td>\n",
       "      <td>0.01</td>\n",
       "      <td>linear</td>\n",
       "      <td>{'C': 0.01, 'kernel': 'linear'}</td>\n",
       "      <td>0.852599</td>\n",
       "      <td>0.854077</td>\n",
       "      <td>0.875230</td>\n",
       "      <td>...</td>\n",
       "      <td>0.835999</td>\n",
       "      <td>0.039666</td>\n",
       "      <td>2</td>\n",
       "      <td>0.999384</td>\n",
       "      <td>0.999384</td>\n",
       "      <td>0.998923</td>\n",
       "      <td>0.998924</td>\n",
       "      <td>0.999693</td>\n",
       "      <td>0.999262</td>\n",
       "      <td>0.000298</td>\n",
       "    </tr>\n",
       "    <tr>\n",
       "      <th>1</th>\n",
       "      <td>669.925747</td>\n",
       "      <td>6.411299</td>\n",
       "      <td>91.820483</td>\n",
       "      <td>0.680193</td>\n",
       "      <td>0.01</td>\n",
       "      <td>rbf</td>\n",
       "      <td>{'C': 0.01, 'kernel': 'rbf'}</td>\n",
       "      <td>0.091743</td>\n",
       "      <td>0.090742</td>\n",
       "      <td>0.090350</td>\n",
       "      <td>...</td>\n",
       "      <td>0.091166</td>\n",
       "      <td>0.000553</td>\n",
       "      <td>8</td>\n",
       "      <td>0.091175</td>\n",
       "      <td>0.091427</td>\n",
       "      <td>0.091371</td>\n",
       "      <td>0.091300</td>\n",
       "      <td>0.091174</td>\n",
       "      <td>0.091289</td>\n",
       "      <td>0.000102</td>\n",
       "    </tr>\n",
       "    <tr>\n",
       "      <th>2</th>\n",
       "      <td>109.132209</td>\n",
       "      <td>2.336807</td>\n",
       "      <td>57.637934</td>\n",
       "      <td>0.868455</td>\n",
       "      <td>0.1</td>\n",
       "      <td>linear</td>\n",
       "      <td>{'C': 0.1, 'kernel': 'linear'}</td>\n",
       "      <td>0.852599</td>\n",
       "      <td>0.854077</td>\n",
       "      <td>0.876460</td>\n",
       "      <td>...</td>\n",
       "      <td>0.835753</td>\n",
       "      <td>0.040377</td>\n",
       "      <td>3</td>\n",
       "      <td>1.000000</td>\n",
       "      <td>1.000000</td>\n",
       "      <td>1.000000</td>\n",
       "      <td>1.000000</td>\n",
       "      <td>1.000000</td>\n",
       "      <td>1.000000</td>\n",
       "      <td>0.000000</td>\n",
       "    </tr>\n",
       "    <tr>\n",
       "      <th>3</th>\n",
       "      <td>399.578479</td>\n",
       "      <td>4.922437</td>\n",
       "      <td>82.989512</td>\n",
       "      <td>0.912757</td>\n",
       "      <td>0.1</td>\n",
       "      <td>rbf</td>\n",
       "      <td>{'C': 0.1, 'kernel': 'rbf'}</td>\n",
       "      <td>0.752905</td>\n",
       "      <td>0.741876</td>\n",
       "      <td>0.746159</td>\n",
       "      <td>...</td>\n",
       "      <td>0.733268</td>\n",
       "      <td>0.025531</td>\n",
       "      <td>7</td>\n",
       "      <td>0.762051</td>\n",
       "      <td>0.762198</td>\n",
       "      <td>0.760806</td>\n",
       "      <td>0.767138</td>\n",
       "      <td>0.782809</td>\n",
       "      <td>0.767000</td>\n",
       "      <td>0.008196</td>\n",
       "    </tr>\n",
       "    <tr>\n",
       "      <th>4</th>\n",
       "      <td>105.444882</td>\n",
       "      <td>2.354912</td>\n",
       "      <td>56.161458</td>\n",
       "      <td>0.579528</td>\n",
       "      <td>1</td>\n",
       "      <td>linear</td>\n",
       "      <td>{'C': 1, 'kernel': 'linear'}</td>\n",
       "      <td>0.852599</td>\n",
       "      <td>0.854077</td>\n",
       "      <td>0.876460</td>\n",
       "      <td>...</td>\n",
       "      <td>0.835753</td>\n",
       "      <td>0.040377</td>\n",
       "      <td>3</td>\n",
       "      <td>1.000000</td>\n",
       "      <td>1.000000</td>\n",
       "      <td>1.000000</td>\n",
       "      <td>1.000000</td>\n",
       "      <td>1.000000</td>\n",
       "      <td>1.000000</td>\n",
       "      <td>0.000000</td>\n",
       "    </tr>\n",
       "    <tr>\n",
       "      <th>5</th>\n",
       "      <td>205.525481</td>\n",
       "      <td>1.699417</td>\n",
       "      <td>69.266541</td>\n",
       "      <td>0.580346</td>\n",
       "      <td>1</td>\n",
       "      <td>rbf</td>\n",
       "      <td>{'C': 1, 'kernel': 'rbf'}</td>\n",
       "      <td>0.865443</td>\n",
       "      <td>0.841815</td>\n",
       "      <td>0.863553</td>\n",
       "      <td>...</td>\n",
       "      <td>0.832308</td>\n",
       "      <td>0.040471</td>\n",
       "      <td>6</td>\n",
       "      <td>0.939935</td>\n",
       "      <td>0.940126</td>\n",
       "      <td>0.941701</td>\n",
       "      <td>0.943283</td>\n",
       "      <td>0.955641</td>\n",
       "      <td>0.944137</td>\n",
       "      <td>0.005878</td>\n",
       "    </tr>\n",
       "    <tr>\n",
       "      <th>6</th>\n",
       "      <td>105.560806</td>\n",
       "      <td>2.304609</td>\n",
       "      <td>56.410568</td>\n",
       "      <td>1.091998</td>\n",
       "      <td>10</td>\n",
       "      <td>linear</td>\n",
       "      <td>{'C': 10, 'kernel': 'linear'}</td>\n",
       "      <td>0.852599</td>\n",
       "      <td>0.854077</td>\n",
       "      <td>0.876460</td>\n",
       "      <td>...</td>\n",
       "      <td>0.835753</td>\n",
       "      <td>0.040377</td>\n",
       "      <td>3</td>\n",
       "      <td>1.000000</td>\n",
       "      <td>1.000000</td>\n",
       "      <td>1.000000</td>\n",
       "      <td>1.000000</td>\n",
       "      <td>1.000000</td>\n",
       "      <td>1.000000</td>\n",
       "      <td>0.000000</td>\n",
       "    </tr>\n",
       "    <tr>\n",
       "      <th>7</th>\n",
       "      <td>193.551679</td>\n",
       "      <td>13.402285</td>\n",
       "      <td>64.181612</td>\n",
       "      <td>6.691864</td>\n",
       "      <td>10</td>\n",
       "      <td>rbf</td>\n",
       "      <td>{'C': 10, 'kernel': 'rbf'}</td>\n",
       "      <td>0.862385</td>\n",
       "      <td>0.849172</td>\n",
       "      <td>0.870928</td>\n",
       "      <td>...</td>\n",
       "      <td>0.838214</td>\n",
       "      <td>0.038752</td>\n",
       "      <td>1</td>\n",
       "      <td>0.999230</td>\n",
       "      <td>0.999076</td>\n",
       "      <td>0.999077</td>\n",
       "      <td>0.998924</td>\n",
       "      <td>0.999386</td>\n",
       "      <td>0.999139</td>\n",
       "      <td>0.000157</td>\n",
       "    </tr>\n",
       "  </tbody>\n",
       "</table>\n",
       "<p>8 rows × 22 columns</p>\n",
       "</div>"
      ],
      "text/plain": [
       "   mean_fit_time  std_fit_time  mean_score_time  std_score_time param_C  \\\n",
       "0     271.994743     80.842013       140.115429       41.165375    0.01   \n",
       "1     669.925747      6.411299        91.820483        0.680193    0.01   \n",
       "2     109.132209      2.336807        57.637934        0.868455     0.1   \n",
       "3     399.578479      4.922437        82.989512        0.912757     0.1   \n",
       "4     105.444882      2.354912        56.161458        0.579528       1   \n",
       "5     205.525481      1.699417        69.266541        0.580346       1   \n",
       "6     105.560806      2.304609        56.410568        1.091998      10   \n",
       "7     193.551679     13.402285        64.181612        6.691864      10   \n",
       "\n",
       "  param_kernel                           params  split0_test_score  \\\n",
       "0       linear  {'C': 0.01, 'kernel': 'linear'}           0.852599   \n",
       "1          rbf     {'C': 0.01, 'kernel': 'rbf'}           0.091743   \n",
       "2       linear   {'C': 0.1, 'kernel': 'linear'}           0.852599   \n",
       "3          rbf      {'C': 0.1, 'kernel': 'rbf'}           0.752905   \n",
       "4       linear     {'C': 1, 'kernel': 'linear'}           0.852599   \n",
       "5          rbf        {'C': 1, 'kernel': 'rbf'}           0.865443   \n",
       "6       linear    {'C': 10, 'kernel': 'linear'}           0.852599   \n",
       "7          rbf       {'C': 10, 'kernel': 'rbf'}           0.862385   \n",
       "\n",
       "   split1_test_score  split2_test_score  ...  mean_test_score  std_test_score  \\\n",
       "0           0.854077           0.875230  ...         0.835999        0.039666   \n",
       "1           0.090742           0.090350  ...         0.091166        0.000553   \n",
       "2           0.854077           0.876460  ...         0.835753        0.040377   \n",
       "3           0.741876           0.746159  ...         0.733268        0.025531   \n",
       "4           0.854077           0.876460  ...         0.835753        0.040377   \n",
       "5           0.841815           0.863553  ...         0.832308        0.040471   \n",
       "6           0.854077           0.876460  ...         0.835753        0.040377   \n",
       "7           0.849172           0.870928  ...         0.838214        0.038752   \n",
       "\n",
       "   rank_test_score  split0_train_score  split1_train_score  \\\n",
       "0                2            0.999384            0.999384   \n",
       "1                8            0.091175            0.091427   \n",
       "2                3            1.000000            1.000000   \n",
       "3                7            0.762051            0.762198   \n",
       "4                3            1.000000            1.000000   \n",
       "5                6            0.939935            0.940126   \n",
       "6                3            1.000000            1.000000   \n",
       "7                1            0.999230            0.999076   \n",
       "\n",
       "   split2_train_score  split3_train_score  split4_train_score  \\\n",
       "0            0.998923            0.998924            0.999693   \n",
       "1            0.091371            0.091300            0.091174   \n",
       "2            1.000000            1.000000            1.000000   \n",
       "3            0.760806            0.767138            0.782809   \n",
       "4            1.000000            1.000000            1.000000   \n",
       "5            0.941701            0.943283            0.955641   \n",
       "6            1.000000            1.000000            1.000000   \n",
       "7            0.999077            0.998924            0.999386   \n",
       "\n",
       "   mean_train_score  std_train_score  \n",
       "0          0.999262         0.000298  \n",
       "1          0.091289         0.000102  \n",
       "2          1.000000         0.000000  \n",
       "3          0.767000         0.008196  \n",
       "4          1.000000         0.000000  \n",
       "5          0.944137         0.005878  \n",
       "6          1.000000         0.000000  \n",
       "7          0.999139         0.000157  \n",
       "\n",
       "[8 rows x 22 columns]"
      ]
     },
     "execution_count": 6,
     "metadata": {},
     "output_type": "execute_result"
    }
   ],
   "source": [
    "Results = pd.DataFrame(clf.cv_results_)\n",
    "Results"
   ]
  },
  {
   "cell_type": "markdown",
   "metadata": {},
   "source": [
    "The found hyperparameter settings are used to predict the classes of the unlabeled test set."
   ]
  },
  {
   "cell_type": "code",
   "execution_count": 7,
   "metadata": {
    "ExecuteTime": {
     "end_time": "2019-04-03T12:47:07.136244Z",
     "start_time": "2019-04-03T12:45:25.699031Z"
    }
   },
   "outputs": [],
   "source": [
    "predictions = clf.predict(x_test)"
   ]
  },
  {
   "cell_type": "code",
   "execution_count": 8,
   "metadata": {
    "ExecuteTime": {
     "end_time": "2019-04-03T12:47:07.150108Z",
     "start_time": "2019-04-03T12:47:07.136244Z"
    }
   },
   "outputs": [
    {
     "data": {
      "text/plain": [
       "array([13, 13,  8, ..., 17, 22, 22], dtype=int64)"
      ]
     },
     "execution_count": 8,
     "metadata": {},
     "output_type": "execute_result"
    }
   ],
   "source": [
    "predictions"
   ]
  },
  {
   "cell_type": "code",
   "execution_count": 9,
   "metadata": {
    "ExecuteTime": {
     "end_time": "2019-04-03T12:47:07.204959Z",
     "start_time": "2019-04-03T12:47:07.155094Z"
    }
   },
   "outputs": [],
   "source": [
    "submission = pd.DataFrame({'id': np.arange(1,3461), 'label': predictions})\n",
    "submission.to_csv(\"submissionSVM.csv\",index=False)"
   ]
  },
  {
   "cell_type": "code",
   "execution_count": 10,
   "metadata": {
    "ExecuteTime": {
     "end_time": "2019-04-03T13:00:21.569077Z",
     "start_time": "2019-04-03T13:00:21.565089Z"
    }
   },
   "outputs": [
    {
     "data": {
      "text/plain": [
       "SVC(C=10, cache_size=200, class_weight=None, coef0=0.0,\n",
       "  decision_function_shape='ovr', degree=3, gamma='scale', kernel='rbf',\n",
       "  max_iter=-1, probability=False, random_state=None, shrinking=True,\n",
       "  tol=0.001, verbose=False)"
      ]
     },
     "execution_count": 10,
     "metadata": {},
     "output_type": "execute_result"
    }
   ],
   "source": [
    "clf.best_estimator_"
   ]
  },
  {
   "cell_type": "code",
   "execution_count": null,
   "metadata": {},
   "outputs": [],
   "source": []
  }
 ],
 "metadata": {
  "kernelspec": {
   "display_name": "Kaggle",
   "language": "python",
   "name": "kaggle"
  },
  "language_info": {
   "codemirror_mode": {
    "name": "ipython",
    "version": 3
   },
   "file_extension": ".py",
   "mimetype": "text/x-python",
   "name": "python",
   "nbconvert_exporter": "python",
   "pygments_lexer": "ipython3",
   "version": "3.6.4"
  }
 },
 "nbformat": 4,
 "nbformat_minor": 2
}
