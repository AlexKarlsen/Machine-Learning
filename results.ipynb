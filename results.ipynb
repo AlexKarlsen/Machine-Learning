{
 "cells": [
  {
   "cell_type": "markdown",
   "metadata": {},
   "source": [
    "# Results"
   ]
  },
  {
   "cell_type": "code",
   "execution_count": 3,
   "metadata": {},
   "outputs": [],
   "source": [
    "import pandas as pd\n",
    "import numpy as np\n",
    "import matplotlib.pyplot as plt"
   ]
  },
  {
   "cell_type": "code",
   "execution_count": 2,
   "metadata": {},
   "outputs": [
    {
     "data": {
      "text/html": [
       "<div>\n",
       "<style scoped>\n",
       "    .dataframe tbody tr th:only-of-type {\n",
       "        vertical-align: middle;\n",
       "    }\n",
       "\n",
       "    .dataframe tbody tr th {\n",
       "        vertical-align: top;\n",
       "    }\n",
       "\n",
       "    .dataframe thead th {\n",
       "        text-align: right;\n",
       "    }\n",
       "</style>\n",
       "<table border=\"1\" class=\"dataframe\">\n",
       "  <thead>\n",
       "    <tr style=\"text-align: right;\">\n",
       "      <th></th>\n",
       "      <th>0</th>\n",
       "    </tr>\n",
       "  </thead>\n",
       "  <tbody>\n",
       "    <tr>\n",
       "      <th>kNN\\nk=10</th>\n",
       "      <td>0.722837</td>\n",
       "    </tr>\n",
       "    <tr>\n",
       "      <th>LDA</th>\n",
       "      <td>0.721607</td>\n",
       "    </tr>\n",
       "    <tr>\n",
       "      <th>Linear\\nSVM</th>\n",
       "      <td>0.853628</td>\n",
       "    </tr>\n",
       "    <tr>\n",
       "      <th>RBF\\nSVM</th>\n",
       "      <td>0.840918</td>\n",
       "    </tr>\n",
       "    <tr>\n",
       "      <th>Perceptron</th>\n",
       "      <td>0.739237</td>\n",
       "    </tr>\n",
       "    <tr>\n",
       "      <th>1-layer\\nNN</th>\n",
       "      <td>0.837228</td>\n",
       "    </tr>\n",
       "    <tr>\n",
       "      <th>2-layer\\nNN</th>\n",
       "      <td>0.834768</td>\n",
       "    </tr>\n",
       "  </tbody>\n",
       "</table>\n",
       "</div>"
      ],
      "text/plain": [
       "                    0\n",
       "kNN\\nk=10    0.722837\n",
       "LDA          0.721607\n",
       "Linear\\nSVM  0.853628\n",
       "RBF\\nSVM     0.840918\n",
       "Perceptron   0.739237\n",
       "1-layer\\nNN  0.837228\n",
       "2-layer\\nNN  0.834768"
      ]
     },
     "execution_count": 2,
     "metadata": {},
     "output_type": "execute_result"
    }
   ],
   "source": [
    "clfs = ['kNN\\nk=10', 'LDA', 'Linear\\nSVM', 'RBF\\nSVM', 'Perceptron', '1-layer\\nNN', '2-layer\\nNN']\n",
    "val_acc = [0.722837, 0.721607, 0.853628, 0.840918, 0.739237, 0.837228, 0.834768]\n",
    "\n",
    "df = pd.DataFrame(val_acc, index=clfs)\n",
    "df"
   ]
  },
  {
   "cell_type": "code",
   "execution_count": 3,
   "metadata": {},
   "outputs": [
    {
     "data": {
      "image/png": "[encoded data removed]",
      "text/plain": [
       "<Figure size 432x288 with 1 Axes>"
      ]
     },
     "metadata": {
      "needs_background": "light"
     },
     "output_type": "display_data"
    }
   ],
   "source": [
    "ax = df.plot.bar(rot=0, legend=False)\n",
    "for (c, i) in enumerate(ax.patches):\n",
    "    ax.text(i.get_x()+.05,i.get_height()+0.01, f\"{val_acc[c]:.2f}\", fontsize=12,\n",
    "               color='black')\n",
    "plt.title('FIN-Benthic')\n",
    "plt.ylabel('Validation Accuracy')\n",
    "plt.ylim((0,1))\n",
    "plt.savefig('fin-benthic.png')\n",
    "plt.show()"
   ]
  },
  {
   "cell_type": "code",
   "execution_count": 113,
   "metadata": {},
   "outputs": [],
   "source": [
    "clfs_concat = ['kNN', 'LDA', 'Linear\\nSVM', 'RBF\\nSVM', 'Perceptron', '1-layer\\nNN', '2-layer\\nNN']\n",
    "val_acc_concat = np.array([\n",
    "                              [0.722837, 0.721607, 0.853628, 0.840918, 0.739237, 0.837228, 0.834768],\n",
    "                              [0.814268, 0.832718, 0.917991, 0.922509, 0.716277, 0.902009, 0.909799]])\n",
    "\n",
    "df2 = pd.DataFrame(val_acc_concat.T, index=clfs_concat)\n"
   ]
  },
  {
   "cell_type": "code",
   "execution_count": 114,
   "metadata": {},
   "outputs": [
    {
     "data": {
      "image/png": "[encoded data removed]",
      "text/plain": [
       "<Figure size 432x288 with 1 Axes>"
      ]
     },
     "metadata": {
      "needs_background": "light"
     },
     "output_type": "display_data"
    }
   ],
   "source": [
    "ax = df2.plot.bar(rot=0)\n",
    "d=0\n",
    "for (c, i) in enumerate(ax.patches):\n",
    "\n",
    "    offset = 0.01\n",
    "    if c%7 == 4 and d == 1:\n",
    "        offset = offset * -2.5\n",
    "    ax.text(i.get_x()-0.05,i.get_height()+offset, f\"{val_acc_concat[d][c%7]:.2f}\", fontsize=12,\n",
    "              color='black')\n",
    "    if c == 6:\n",
    "        d = 1\n",
    "plt.title('FIN-Benthic-Concatenated')\n",
    "plt.ylabel('Validation Accuracy')\n",
    "plt.legend(['FIN-Benthic', 'Concatenated'])\n",
    "plt.ylim((0,1.2))\n",
    "plt.yticks([0, 0.2, 0.4, 0.6, 0.8, 1])\n",
    "plt.savefig('fin-benthic-same.png')\n",
    "plt.show()"
   ]
  },
  {
   "cell_type": "code",
   "execution_count": 34,
   "metadata": {},
   "outputs": [
    {
     "data": {
      "text/plain": [
       "5"
      ]
     },
     "execution_count": 34,
     "metadata": {},
     "output_type": "execute_result"
    }
   ],
   "source": [
    "my_data = np.genfromtxt('labels.csv', delimiter=',')\n",
    "np.count_nonzero(my_data==9)"
   ]
  },
  {
   "cell_type": "code",
   "execution_count": 35,
   "metadata": {},
   "outputs": [
    {
     "data": {
      "text/plain": [
       "50"
      ]
     },
     "execution_count": 35,
     "metadata": {},
     "output_type": "execute_result"
    }
   ],
   "source": [
    "len(my_data)"
   ]
  },
  {
   "cell_type": "code",
   "execution_count": null,
   "metadata": {},
   "outputs": [],
   "source": []
  }
 ],
 "metadata": {
  "kernelspec": {
   "display_name": "openCV",
   "language": "python",
   "name": "opencv"
  },
  "language_info": {
   "codemirror_mode": {
    "name": "ipython",
    "version": 3
   },
   "file_extension": ".py",
   "mimetype": "text/x-python",
   "name": "python",
   "nbconvert_exporter": "python",
   "pygments_lexer": "ipython3",
   "version": "3.7.2"
  }
 },
 "nbformat": 4,
 "nbformat_minor": 2
}
