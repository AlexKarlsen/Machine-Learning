{
 "cells": [
  {
   "cell_type": "markdown",
   "metadata": {},
   "source": [
    "# Raw image kNN"
   ]
  },
  {
   "cell_type": "code",
   "execution_count": null,
   "metadata": {
    "ExecuteTime": {
     "end_time": "2019-03-07T14:22:46.470433Z",
     "start_time": "2019-03-07T14:22:46.466440Z"
    }
   },
   "outputs": [],
   "source": [
    "import os\n",
    "import numpy as np\n",
    "import pandas as pd\n",
    "from PIL import Image\n",
    "from sklearn import neighbors"
   ]
  },
  {
   "cell_type": "code",
   "execution_count": null,
   "metadata": {
    "ExecuteTime": {
     "end_time": "2019-03-07T14:22:46.481398Z",
     "start_time": "2019-03-07T14:22:46.474418Z"
    }
   },
   "outputs": [],
   "source": [
    "path_train_images = './Data/Train/TrainImages/'\n",
    "path_validation_images = './Data/Validation/ValidationImages/'"
   ]
  },
  {
   "cell_type": "code",
   "execution_count": null,
   "metadata": {
    "ExecuteTime": {
     "end_time": "2019-03-07T14:22:46.492368Z",
     "start_time": "2019-03-07T14:22:46.485387Z"
    }
   },
   "outputs": [],
   "source": [
    "num_train = 3000 # number of images to load max 5830\n",
    "num_val = 1800 # number of validation images to load max 2298\n",
    "num_neighbor = 1\n",
    "clf = neighbors.KNeighborsClassifier(n_neighbors=num_neighbor)"
   ]
  },
  {
   "cell_type": "code",
   "execution_count": null,
   "metadata": {
    "ExecuteTime": {
     "end_time": "2019-03-07T14:22:46.510322Z",
     "start_time": "2019-03-07T14:22:46.497369Z"
    }
   },
   "outputs": [],
   "source": [
    "img = Image.open(path_train_images + 'Image' + '1' + '.jpg') # Loading Image1.jpg\n",
    "img = np.array(img)\n",
    "print('Image size is {}'.format(img.shape))\n",
    "img = img.ravel()\n",
    "print('Flattened image size is {}'.format(img.size))"
   ]
  },
  {
   "cell_type": "markdown",
   "metadata": {},
   "source": [
    "### Training kNN"
   ]
  },
  {
   "cell_type": "code",
   "execution_count": null,
   "metadata": {
    "ExecuteTime": {
     "end_time": "2019-03-07T14:23:03.650630Z",
     "start_time": "2019-03-07T14:22:46.513329Z"
    }
   },
   "outputs": [],
   "source": [
    "train = [] # Empty list\n",
    "for i in range(1,5831):\n",
    "    img = Image.open(path_train_images + 'Image' + str(i) + '.jpg') # Loading Image<x>.jpg\n",
    "    v = np.array(img)\n",
    "    v = v.ravel()\n",
    "    train.append(v) # add flattened image to list\n",
    "train = np.asarray(train)\n",
    "train_lbls = pd.read_csv('./Data/Train/trainLbls.csv',header=None)"
   ]
  },
  {
   "cell_type": "code",
   "execution_count": null,
   "metadata": {
    "ExecuteTime": {
     "end_time": "2019-03-07T14:23:34.093161Z",
     "start_time": "2019-03-07T14:23:03.653616Z"
    }
   },
   "outputs": [],
   "source": [
    "train_set = np.concatenate((train,train_lbls), axis=1)\n",
    "np.random.shuffle(train_set)\n",
    "\n",
    "train_lbls = train_set[:,-1]\n",
    "\n",
    "train = train_set[:,0:196608]"
   ]
  },
  {
   "cell_type": "code",
   "execution_count": null,
   "metadata": {
    "ExecuteTime": {
     "end_time": "2019-03-07T14:25:13.739662Z",
     "start_time": "2019-03-07T14:23:34.113116Z"
    }
   },
   "outputs": [],
   "source": [
    "clf.fit(train[0:num_train], train_lbls[0:num_train])"
   ]
  },
  {
   "cell_type": "markdown",
   "metadata": {},
   "source": [
    "### Validating kNN"
   ]
  },
  {
   "cell_type": "code",
   "execution_count": null,
   "metadata": {
    "ExecuteTime": {
     "start_time": "2019-03-07T14:22:46.498Z"
    }
   },
   "outputs": [],
   "source": [
    "validation = [] # Empty list\n",
    "for i in range(1,2299):\n",
    "    img = Image.open(path_validation_images + 'Image' + str(i) + '.jpg') # Loading Image<x>.jpg\n",
    "    v = np.array(img)\n",
    "    v = v.ravel()\n",
    "    validation.append(v) # add flattened image to list\n",
    "validation = np.asarray(validation)\n",
    "validation_labels = pd.read_csv('./Data/Validation/valLbls.csv',header=None)"
   ]
  },
  {
   "cell_type": "code",
   "execution_count": null,
   "metadata": {
    "ExecuteTime": {
     "start_time": "2019-03-07T14:22:46.504Z"
    }
   },
   "outputs": [],
   "source": [
    "validation_set = np.concatenate((validation,validation_labels), axis=1)\n",
    "np.random.shuffle(validation_set)\n",
    "\n",
    "validation_labels = validation_set[:,-1]\n",
    "validation = validation_set[:,0:196608]"
   ]
  },
  {
   "cell_type": "code",
   "execution_count": null,
   "metadata": {
    "ExecuteTime": {
     "start_time": "2019-03-07T14:22:46.509Z"
    }
   },
   "outputs": [],
   "source": [
    "clf.score(validation[0:num_val], validation_labels[0:num_val])"
   ]
  },
  {
   "cell_type": "markdown",
   "metadata": {},
   "source": [
    "## Grayscale"
   ]
  },
  {
   "cell_type": "code",
   "execution_count": null,
   "metadata": {
    "ExecuteTime": {
     "start_time": "2019-03-07T14:22:46.514Z"
    }
   },
   "outputs": [],
   "source": [
    "img = Image.open(path_train_images + 'Image' + '1' + '.jpg').convert('L') # Loading Image1.jpg\n",
    "img = np.array(img)\n",
    "print('Grayscale image size is {}'.format(img.shape))\n",
    "img = img.ravel()\n",
    "print('Flattened image size is {}'.format(img.size))"
   ]
  },
  {
   "cell_type": "markdown",
   "metadata": {},
   "source": [
    "### Training kNN"
   ]
  },
  {
   "cell_type": "code",
   "execution_count": null,
   "metadata": {
    "ExecuteTime": {
     "start_time": "2019-03-07T14:22:46.519Z"
    }
   },
   "outputs": [],
   "source": [
    "train = [] # Empty list\n",
    "for i in range(1,5831):\n",
    "    img = Image.open(path_train_images + 'Image' + str(i) + '.jpg').convert('L') # Loading Image<x>.jpg\n",
    "    v = np.array(img)\n",
    "    v = v.ravel()\n",
    "    train.append(v) # add flattened image to list\n",
    "train = np.asarray(train)\n",
    "train_lbls = pd.read_csv('./Data/Train/trainLbls.csv',header=None)"
   ]
  },
  {
   "cell_type": "code",
   "execution_count": null,
   "metadata": {
    "ExecuteTime": {
     "start_time": "2019-03-07T14:22:46.523Z"
    }
   },
   "outputs": [],
   "source": [
    "train_set = np.concatenate((train,train_lbls), axis=1)\n",
    "np.random.shuffle(train_set)\n",
    "\n",
    "train_lbls = train_set[:,-1]\n",
    "\n",
    "train = train_set[:,0:196608]"
   ]
  },
  {
   "cell_type": "code",
   "execution_count": null,
   "metadata": {
    "ExecuteTime": {
     "start_time": "2019-03-07T14:22:46.527Z"
    }
   },
   "outputs": [],
   "source": [
    "clf.fit(train[0:num_train], train_lbls[0:num_train])"
   ]
  },
  {
   "cell_type": "markdown",
   "metadata": {},
   "source": [
    "### Validating kNN"
   ]
  },
  {
   "cell_type": "code",
   "execution_count": null,
   "metadata": {
    "ExecuteTime": {
     "start_time": "2019-03-07T14:22:46.531Z"
    }
   },
   "outputs": [],
   "source": [
    "validation = [] # Empty list\n",
    "for i in range(1,2299):\n",
    "    img = Image.open(path_validation_images + 'Image' + str(i) + '.jpg').convert('L') # Loading Image<x>.jpg\n",
    "    v = np.array(img)\n",
    "    v = v.ravel()\n",
    "    validation.append(v) # add flattened image to list\n",
    "validation = np.asarray(validation)\n",
    "validation_labels = pd.read_csv('./Data/Validation/valLbls.csv',header=None)"
   ]
  },
  {
   "cell_type": "code",
   "execution_count": null,
   "metadata": {
    "ExecuteTime": {
     "start_time": "2019-03-07T14:22:46.534Z"
    }
   },
   "outputs": [],
   "source": [
    "validation_set = np.concatenate((validation,validation_labels), axis=1)\n",
    "np.random.shuffle(validation_set)\n",
    "\n",
    "validation_labels = validation_set[:,-1]\n",
    "validation = validation_set[:,0:196608]"
   ]
  },
  {
   "cell_type": "code",
   "execution_count": null,
   "metadata": {
    "ExecuteTime": {
     "start_time": "2019-03-07T14:22:46.540Z"
    }
   },
   "outputs": [],
   "source": [
    "clf.score(validation[0:num_val], validation_labels[0:num_val])"
   ]
  },
  {
   "cell_type": "markdown",
   "metadata": {},
   "source": [
    "## Downsampling"
   ]
  },
  {
   "cell_type": "code",
   "execution_count": null,
   "metadata": {
    "ExecuteTime": {
     "start_time": "2019-03-07T14:22:46.543Z"
    }
   },
   "outputs": [],
   "source": [
    "img = Image.open(path_train_images + 'Image' + '1' + '.jpg').convert('L') # Loading Image1.jpg\n",
    "img = img.resize((128,128))\n",
    "img = np.array(img)\n",
    "print('Grayscale image size is {}'.format(img.shape))\n",
    "img = img.ravel()\n",
    "print('Flattened image size is {}'.format(img.size))"
   ]
  },
  {
   "cell_type": "markdown",
   "metadata": {},
   "source": [
    "### Training kNN"
   ]
  },
  {
   "cell_type": "code",
   "execution_count": null,
   "metadata": {
    "ExecuteTime": {
     "start_time": "2019-03-07T14:22:46.546Z"
    }
   },
   "outputs": [],
   "source": [
    "train = [] # Empty list\n",
    "for i in range(1,5831):\n",
    "    img = Image.open(path_train_images + 'Image' + str(i) + '.jpg').convert('L') # Loading Image<x>.jpg\n",
    "    img = img.resize((128,128))\n",
    "    v = np.array(img)\n",
    "    v = v.ravel()\n",
    "    train.append(v) # add flattened image to list\n",
    "train = np.asarray(train)\n",
    "train_lbls = pd.read_csv('./Data/Train/trainLbls.csv',header=None)"
   ]
  },
  {
   "cell_type": "code",
   "execution_count": null,
   "metadata": {
    "ExecuteTime": {
     "start_time": "2019-03-07T14:22:46.550Z"
    }
   },
   "outputs": [],
   "source": [
    "train_set = np.concatenate((train,train_lbls), axis=1)\n",
    "np.random.shuffle(train_set)\n",
    "\n",
    "train_lbls = train_set[:,-1]\n",
    "\n",
    "train = train_set[:,0:196608]"
   ]
  },
  {
   "cell_type": "code",
   "execution_count": null,
   "metadata": {
    "ExecuteTime": {
     "start_time": "2019-03-07T14:22:46.556Z"
    }
   },
   "outputs": [],
   "source": [
    "clf.fit(train[0:num_train], train_lbls[0:num_train])"
   ]
  },
  {
   "cell_type": "markdown",
   "metadata": {},
   "source": [
    "### Validating kNN"
   ]
  },
  {
   "cell_type": "code",
   "execution_count": null,
   "metadata": {
    "ExecuteTime": {
     "start_time": "2019-03-07T14:22:46.560Z"
    }
   },
   "outputs": [],
   "source": [
    "validation = [] # Empty list\n",
    "for i in range(1,2299):\n",
    "    img = Image.open(path_validation_images + 'Image' + str(i) + '.jpg').convert('L') # Loading Image<x>.jpg\n",
    "    img = img.resize((128,128))\n",
    "    v = np.array(img)\n",
    "    v = v.ravel()\n",
    "    validation.append(v) # add flattened image to list\n",
    "validation = np.asarray(validation)\n",
    "validation_labels = pd.read_csv('./Data/Validation/valLbls.csv',header=None)"
   ]
  },
  {
   "cell_type": "code",
   "execution_count": null,
   "metadata": {
    "ExecuteTime": {
     "start_time": "2019-03-07T14:22:46.567Z"
    }
   },
   "outputs": [],
   "source": [
    "validation_set = np.concatenate((validation,validation_labels), axis=1)\n",
    "np.random.shuffle(validation_set)\n",
    "\n",
    "validation_labels = validation_set[:,-1]\n",
    "validation = validation_set[:,0:196608]"
   ]
  },
  {
   "cell_type": "code",
   "execution_count": null,
   "metadata": {
    "ExecuteTime": {
     "start_time": "2019-03-07T14:22:46.571Z"
    }
   },
   "outputs": [],
   "source": [
    "clf.score(validation[0:num_val], validation_labels[0:num_val])"
   ]
  },
  {
   "cell_type": "code",
   "execution_count": null,
   "metadata": {},
   "outputs": [],
   "source": []
  }
 ],
 "metadata": {
  "kernelspec": {
   "display_name": "Kaggle",
   "language": "python",
   "name": "kaggle"
  },
  "language_info": {
   "codemirror_mode": {
    "name": "ipython",
    "version": 3
   },
   "file_extension": ".py",
   "mimetype": "text/x-python",
   "name": "python",
   "nbconvert_exporter": "python",
   "pygments_lexer": "ipython3",
   "version": "3.6.4"
  }
 },
 "nbformat": 4,
 "nbformat_minor": 2
}
